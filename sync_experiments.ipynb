{
  "cells": [
    {
      "cell_type": "code",
      "source": [
        "import os\n",
        "import shutil\n",
        "import glob\n",
        "import json\n",
        "import time\n",
        "import sys\n",
        "sys.path.append(\"..\") # Adds higher directory to python modules path.\n",
        "from newLines.new_rM2svg import rm2svg\n",
        "from PyPDF2 import PdfFileReader"
      ],
      "outputs": [],
      "execution_count": 1,
      "metadata": {
        "collapsed": false,
        "outputHidden": false,
        "inputHidden": false
      }
    },
    {
      "cell_type": "code",
      "source": [
        "hashdict = {}\n",
        "for i in range(0,len(files)):\n",
        "    refNrPath= remarkableBackupDirectory+remContent+\"/\"+files[i]\n",
        "    # get meta Data\n",
        "    meta= json.loads(open(refNrPath+\".metadata\").read())\n",
        "    fname = meta['visibleName']\n",
        "    print(i)\n",
        "    print(fname)\n",
        "    hashdict[fname] = refNrPath\n",
        "    annotPDF = os.path.isfile(refNrPath+\".pdf\")\n"
      ],
      "outputs": [
        {
          "output_type": "stream",
          "name": "stdout",
          "text": [
            "0\n",
            "Castet2000.pdf\n",
            "1\n",
            "sameold\n",
            "2\n",
            "Berger2012.pdf\n",
            "3\n",
            "Bates2015.pdf\n",
            "4\n",
            "Malsburg2011.pdf\n",
            "5\n",
            "Notebook\n",
            "6\n",
            "Kowler2011.pdf\n",
            "7\n",
            "Mannan1997.pdf\n",
            "8\n",
            "Schwetlick2018a.pdf\n",
            "9\n",
            "Borji2014.pdf\n",
            "10\n",
            "song ideas\n",
            "11\n",
            "Carandini2011.pdf\n",
            "12\n",
            "klein1999.pdf\n",
            "13\n",
            "Peters2005.pdf\n",
            "14\n",
            "Parkhurst2002.pdf\n",
            "15\n",
            "Brady2008.pdf\n",
            "16\n",
            "Trukenbrod2017\n",
            "17\n",
            "Antes1974.pdf\n",
            "18\n",
            "Notebook2\n",
            "19\n",
            "Chapter6-new.pdf\n",
            "20\n",
            "bandnewsongs\n",
            "21\n",
            "Jarodzka2010.pdf\n",
            "22\n",
            "Math\n",
            "23\n",
            "Rothkegel2017.pdf\n",
            "24\n",
            "Smith2009.pdf\n",
            "25\n",
            "aaaaaaaaaaaaaaaaaaaaaaaa\n",
            "26\n",
            "James_Intro_to_Statistical_Learning.pdf\n",
            "27\n",
            "Kuemmerer_Saliency_Benchmarking.pdf\n",
            "28\n",
            "Yantis1996.pdf\n",
            "29\n",
            "Martinez-Conde2006.pdf\n",
            "30\n",
            "Kaspar2011.pdf\n",
            "31\n",
            "White2013.pdf\n",
            "32\n",
            "Tatler2007.pdf\n",
            "33\n",
            "Schad2018.pdf\n",
            "34\n",
            "Kliegl2010.pdf\n",
            "35\n",
            "Myung2003.pdf\n",
            "36\n",
            "1308.5499.pdf\n",
            "37\n",
            "Tatler2005.pdf\n",
            "38\n",
            "Arons92areview.pdf\n",
            "39\n",
            "Mathot2015.pdf\n",
            "40\n",
            "Illian_Statistical_analysis_and_modelling_of_spatial_point_patterns.pdf\n",
            "41\n",
            "Konkle2010.pdf\n",
            "42\n",
            "Foulsham2010.pdf\n",
            "43\n",
            "Henderson1999.pdf\n",
            "44\n",
            "Clarke2014.pdf\n",
            "45\n",
            "broadbent1954.pdf\n",
            "46\n",
            "Zelinsky1997.pdf\n",
            "47\n",
            "Ralf_Textbook.pdf\n",
            "48\n",
            "Schwetlick2018.pdf\n",
            "49\n",
            "Kruschke_Doing_Bayesian_Data_Analysis\n",
            "50\n",
            "2017_Book_ModelingLife.pdf\n",
            "51\n",
            "The_5 Elements_of_Effective_thinking.pdf\n",
            "52\n",
            "1308.5499.pdf\n",
            "53\n",
            "Kuemmerer2014.pdf\n",
            "54\n",
            "RobertCasella_IntroducingMonteCarloMethodsWithR.pdf\n",
            "55\n",
            "Sanocki2003.pdf\n",
            "56\n",
            "Stoll2015.pdf\n",
            "57\n",
            "Reinagel1999.pdf\n",
            "58\n",
            "Harris2008.pdf\n",
            "59\n",
            "Bates2015.pdf\n",
            "60\n",
            "Quick sheets\n",
            "61\n",
            "Strasburger2011.pdf\n",
            "62\n",
            "mannan1996.pdf\n",
            "63\n",
            "marr1982understanding.pdf\n",
            "64\n",
            "Itti1998.pdf\n",
            "65\n",
            "Pannasch2008.pdf\n",
            "66\n",
            "Collewijn1988.pdf\n",
            "67\n",
            "Rayner2009.pdf\n",
            "68\n",
            "B05.pdf\n",
            "69\n",
            "Hodgson2000.pdf\n",
            "70\n",
            "DeAngelus2009.pdf\n",
            "71\n",
            "Becker2007.pdf\n",
            "72\n",
            "Shepard1967.pdf\n",
            "73\n",
            "Matthis2018.pdf\n",
            "74\n",
            "O_Regan_1992.pdf\n",
            "75\n",
            "Cousineau2005.pdf\n",
            "76\n",
            "Godwin2014.pdf\n",
            "77\n",
            "Noton1971.pdf\n",
            "78\n",
            "Melcher2006.pdf\n",
            "79\n",
            "Einhauser2008.pdf\n",
            "80\n",
            "Meur2015.pdf\n",
            "81\n",
            "Foulsham2013.pdf\n",
            "82\n",
            "The_5 Elements_of_Effective_thinking.pdf\n",
            "83\n",
            "Wilson2017.pdf\n",
            "84\n",
            "Mills2011.pdf\n",
            "85\n",
            "Rayner1998.pdf\n",
            "86\n",
            "Schuett2017\n",
            "87\n",
            "Rothkegel2016.pdf\n",
            "88\n",
            "Neider2006.pdf\n",
            "89\n",
            "churchland1994critique.pdf\n",
            "90\n",
            "ECVP2017_abstracts_0.9.2.pdf\n",
            "91\n",
            "Simons1997.pdf\n",
            "92\n",
            "Nuthmann2010.pdf\n",
            "93\n",
            "Renswoude2019.pdf\n",
            "94\n",
            "Parkhurst2003.pdf\n",
            "95\n",
            "Barthelme2013.pdf\n",
            "96\n",
            "Over2007.pdf\n",
            "97\n",
            "Mackworth1967.pdf\n",
            "98\n",
            "Kuemmerer2018.pdf\n",
            "99\n",
            "band\n",
            "100\n",
            "Wood1995.pdf\n",
            "101\n",
            "Torralba2006.pdf\n",
            "102\n",
            "Zhou2018.pdf\n",
            "103\n",
            "Foulsham2008.pdf\n",
            "104\n",
            "Bass\n",
            "105\n",
            "buswell1935people.pdf\n",
            "106\n",
            "Duhamel1992.pdf\n",
            "107\n",
            "Kaspar2011a.pdf\n",
            "108\n",
            "Kliegl2010.pdf\n",
            "109\n",
            "Posner1980.pdf\n",
            "110\n",
            "Baker2018.pdf\n",
            "111\n",
            "Notebook1\n",
            "112\n",
            "Martinez-Conde2004.pdf\n",
            "113\n",
            "Baldauf2007.pdf\n",
            "114\n",
            "Ch6_math_modelling_ralf.pdf\n",
            "115\n",
            "Castelhano2007.pdf\n",
            "116\n",
            "Judd2009.pdf\n",
            "117\n",
            "Cherry1953.pdf\n",
            "118\n",
            "Textbook.pdf\n",
            "119\n",
            "Kuemmerer2017.pdf\n",
            "120\n",
            "Castelhano2009.pdf\n",
            "121\n",
            "Schwetlick2017.pdf\n",
            "122\n",
            "Schwetlick2016.pdf\n",
            "123\n",
            "foulsham2012.pdf\n",
            "124\n",
            "Simons2005.pdf\n",
            "125\n",
            "bridgeman1992.pdf\n",
            "126\n",
            "Posner1984.pdf\n",
            "127\n",
            "thinkos\n",
            "128\n",
            "Hayhoe2005.pdf\n",
            "129\n",
            "Hollingworth2006.pdf\n",
            "130\n",
            "deep learing\n",
            "131\n",
            "Rolfs2012.pdf\n",
            "132\n",
            "Nuthmann2017\n",
            "133\n",
            "thinkcomplexity2\n",
            "134\n",
            "Engbert2011.pdf\n",
            "135\n",
            "Brady2011.pdf\n",
            "136\n",
            "Kuemmerer_Information_theoretic_model_comparison_SUPPL.pdf\n",
            "137\n",
            "Kuemmerer_2015.pdf\n",
            "138\n",
            "morey.2008.pdf\n",
            "139\n",
            "Kuemmerer_2015_SUPPL.pdf\n",
            "140\n",
            "thinkbayes\n",
            "141\n",
            "Aloimonos1991.pdf\n",
            "142\n",
            "Greene2012.pdf\n",
            "143\n",
            "Ditchburn1980.pdf\n",
            "144\n",
            "Kuemmerer_Information_theoretic_model_comparison.pdf\n",
            "145\n",
            "Borji2013.pdf\n",
            "146\n",
            "Yarbus.pdf\n",
            "147\n",
            "Hollingworth2006a.pdf\n",
            "148\n",
            "Loftus1978.pdf\n",
            "149\n",
            "Barr2013.pdf\n",
            "150\n",
            "Engbert_2015.pdf\n",
            "151\n",
            "Masciocchi2009.pdf\n",
            "152\n",
            "Rothkegel2014.pdf\n"
          ]
        }
      ],
      "execution_count": 60,
      "metadata": {
        "collapsed": false,
        "outputHidden": false,
        "inputHidden": false
      }
    },
    {
      "cell_type": "code",
      "source": [
        "meta\n"
      ],
      "outputs": [
        {
          "output_type": "execute_result",
          "execution_count": 43,
          "data": {
            "text/plain": [
              "{'deleted': False,\n",
              " 'lastModified': '1544301581140',\n",
              " 'metadatamodified': True,\n",
              " 'modified': True,\n",
              " 'parent': '',\n",
              " 'pinned': False,\n",
              " 'synced': False,\n",
              " 'type': 'DocumentType',\n",
              " 'version': 0,\n",
              " 'visibleName': 'sameold'}"
            ]
          },
          "metadata": {}
        }
      ],
      "execution_count": 43,
      "metadata": {
        "collapsed": false,
        "outputHidden": false,
        "inputHidden": false
      }
    },
    {
      "cell_type": "code",
      "source": [
        "remarkableBackupDirectory=\"/Users/lisa/Documents/remarkableBackup\"\n",
        "remContent=\"/xochitl\"\n",
        "syncDirectory=\"/Users/lisa/Documents/Literature\""
      ],
      "outputs": [],
      "execution_count": 3,
      "metadata": {
        "collapsed": false,
        "outputHidden": false,
        "inputHidden": false
      }
    },
    {
      "cell_type": "code",
      "source": [
        "i = 51"
      ],
      "outputs": [],
      "execution_count": 73,
      "metadata": {
        "collapsed": false,
        "outputHidden": false,
        "inputHidden": false
      }
    },
    {
      "cell_type": "code",
      "source": [
        "files = [x for x in os.listdir(remarkableBackupDirectory+remContent) if \".\" not in x]"
      ],
      "outputs": [],
      "execution_count": 74,
      "metadata": {
        "collapsed": false,
        "outputHidden": false,
        "inputHidden": false
      }
    },
    {
      "cell_type": "code",
      "source": [
        "refNrPath= remarkableBackupDirectory+remContent+\"/\"+files[i]\n",
        "meta= json.loads(open(refNrPath+\".metadata\").read())\n",
        "fname = meta['visibleName']"
      ],
      "outputs": [],
      "execution_count": 75,
      "metadata": {
        "collapsed": false,
        "outputHidden": false,
        "inputHidden": false
      }
    },
    {
      "cell_type": "code",
      "source": [
        "# Does this lines file have an associated pdf?\n",
        "AnnotPDF = os.path.isfile(refNrPath + \".pdf\")\n",
        "# Get list of all rm files i.e. all pages\n",
        "AnnotPDF\n"
      ],
      "outputs": [
        {
          "output_type": "execute_result",
          "execution_count": 76,
          "data": {
            "text/plain": [
              "True"
            ]
          },
          "metadata": {}
        }
      ],
      "execution_count": 76,
      "metadata": {
        "collapsed": false,
        "outputHidden": false,
        "inputHidden": false
      }
    },
    {
      "cell_type": "code",
      "source": [
        "refNrPath"
      ],
      "outputs": [
        {
          "output_type": "execute_result",
          "execution_count": 77,
          "data": {
            "text/plain": [
              "'/Users/lisa/Documents/remarkableBackup/xochitl/023c6d49-632f-4e61-8c82-baca3982f4e0'"
            ]
          },
          "metadata": {}
        }
      ],
      "execution_count": 77,
      "metadata": {
        "collapsed": false,
        "outputHidden": false,
        "inputHidden": false
      }
    },
    {
      "cell_type": "markdown",
      "source": [
        "# Annotated Pdfs"
      ],
      "metadata": {}
    },
    {
      "cell_type": "code",
      "source": [
        "syncFilePath= syncDirectory+\"/*/\"+meta[\"visibleName\"]+\".pdf\" if meta[\"visibleName\"][-4:]!=\".pdf\" else syncDirectory+\"/*/\"+meta[\"visibleName\"]\n",
        "inSyncFolder= True if glob.glob(syncFilePath)!=[] else False\n",
        "inSyncFolder"
      ],
      "outputs": [
        {
          "output_type": "execute_result",
          "execution_count": 78,
          "data": {
            "text/plain": [
              "True"
            ]
          },
          "metadata": {}
        }
      ],
      "execution_count": 78,
      "metadata": {
        "collapsed": false,
        "outputHidden": false,
        "inputHidden": false
      }
    },
    {
      "cell_type": "code",
      "source": [
        "glob.glob(refNrPath+\"/*\")"
      ],
      "outputs": [
        {
          "output_type": "execute_result",
          "execution_count": 79,
          "data": {
            "text/plain": [
              "['/Users/lisa/Documents/remarkableBackup/xochitl/023c6d49-632f-4e61-8c82-baca3982f4e0/12.rm',\n",
              " '/Users/lisa/Documents/remarkableBackup/xochitl/023c6d49-632f-4e61-8c82-baca3982f4e0/43.rm',\n",
              " '/Users/lisa/Documents/remarkableBackup/xochitl/023c6d49-632f-4e61-8c82-baca3982f4e0/77.rm',\n",
              " '/Users/lisa/Documents/remarkableBackup/xochitl/023c6d49-632f-4e61-8c82-baca3982f4e0/26.rm',\n",
              " '/Users/lisa/Documents/remarkableBackup/xochitl/023c6d49-632f-4e61-8c82-baca3982f4e0/84.rm',\n",
              " '/Users/lisa/Documents/remarkableBackup/xochitl/023c6d49-632f-4e61-8c82-baca3982f4e0/94.rm',\n",
              " '/Users/lisa/Documents/remarkableBackup/xochitl/023c6d49-632f-4e61-8c82-baca3982f4e0/36.rm',\n",
              " '/Users/lisa/Documents/remarkableBackup/xochitl/023c6d49-632f-4e61-8c82-baca3982f4e0/67.rm',\n",
              " '/Users/lisa/Documents/remarkableBackup/xochitl/023c6d49-632f-4e61-8c82-baca3982f4e0/53.rm',\n",
              " '/Users/lisa/Documents/remarkableBackup/xochitl/023c6d49-632f-4e61-8c82-baca3982f4e0/22.rm',\n",
              " '/Users/lisa/Documents/remarkableBackup/xochitl/023c6d49-632f-4e61-8c82-baca3982f4e0/73.rm',\n",
              " '/Users/lisa/Documents/remarkableBackup/xochitl/023c6d49-632f-4e61-8c82-baca3982f4e0/80.rm',\n",
              " '/Users/lisa/Documents/remarkableBackup/xochitl/023c6d49-632f-4e61-8c82-baca3982f4e0/47.rm',\n",
              " '/Users/lisa/Documents/remarkableBackup/xochitl/023c6d49-632f-4e61-8c82-baca3982f4e0/16.rm',\n",
              " '/Users/lisa/Documents/remarkableBackup/xochitl/023c6d49-632f-4e61-8c82-baca3982f4e0/57.rm',\n",
              " '/Users/lisa/Documents/remarkableBackup/xochitl/023c6d49-632f-4e61-8c82-baca3982f4e0/90.rm',\n",
              " '/Users/lisa/Documents/remarkableBackup/xochitl/023c6d49-632f-4e61-8c82-baca3982f4e0/63.rm',\n",
              " '/Users/lisa/Documents/remarkableBackup/xochitl/023c6d49-632f-4e61-8c82-baca3982f4e0/32.rm',\n",
              " '/Users/lisa/Documents/remarkableBackup/xochitl/023c6d49-632f-4e61-8c82-baca3982f4e0/23.rm',\n",
              " '/Users/lisa/Documents/remarkableBackup/xochitl/023c6d49-632f-4e61-8c82-baca3982f4e0/72.rm',\n",
              " '/Users/lisa/Documents/remarkableBackup/xochitl/023c6d49-632f-4e61-8c82-baca3982f4e0/81.rm',\n",
              " '/Users/lisa/Documents/remarkableBackup/xochitl/023c6d49-632f-4e61-8c82-baca3982f4e0/46.rm',\n",
              " '/Users/lisa/Documents/remarkableBackup/xochitl/023c6d49-632f-4e61-8c82-baca3982f4e0/17.rm',\n",
              " '/Users/lisa/Documents/remarkableBackup/xochitl/023c6d49-632f-4e61-8c82-baca3982f4e0/56.rm',\n",
              " '/Users/lisa/Documents/remarkableBackup/xochitl/023c6d49-632f-4e61-8c82-baca3982f4e0/91.rm',\n",
              " '/Users/lisa/Documents/remarkableBackup/xochitl/023c6d49-632f-4e61-8c82-baca3982f4e0/62.rm',\n",
              " '/Users/lisa/Documents/remarkableBackup/xochitl/023c6d49-632f-4e61-8c82-baca3982f4e0/33.rm',\n",
              " '/Users/lisa/Documents/remarkableBackup/xochitl/023c6d49-632f-4e61-8c82-baca3982f4e0/13.rm',\n",
              " '/Users/lisa/Documents/remarkableBackup/xochitl/023c6d49-632f-4e61-8c82-baca3982f4e0/42.rm',\n",
              " '/Users/lisa/Documents/remarkableBackup/xochitl/023c6d49-632f-4e61-8c82-baca3982f4e0/76.rm',\n",
              " '/Users/lisa/Documents/remarkableBackup/xochitl/023c6d49-632f-4e61-8c82-baca3982f4e0/27.rm',\n",
              " '/Users/lisa/Documents/remarkableBackup/xochitl/023c6d49-632f-4e61-8c82-baca3982f4e0/85.rm',\n",
              " '/Users/lisa/Documents/remarkableBackup/xochitl/023c6d49-632f-4e61-8c82-baca3982f4e0/95.rm',\n",
              " '/Users/lisa/Documents/remarkableBackup/xochitl/023c6d49-632f-4e61-8c82-baca3982f4e0/37.rm',\n",
              " '/Users/lisa/Documents/remarkableBackup/xochitl/023c6d49-632f-4e61-8c82-baca3982f4e0/66.rm',\n",
              " '/Users/lisa/Documents/remarkableBackup/xochitl/023c6d49-632f-4e61-8c82-baca3982f4e0/52.rm',\n",
              " '/Users/lisa/Documents/remarkableBackup/xochitl/023c6d49-632f-4e61-8c82-baca3982f4e0/120.rm',\n",
              " '/Users/lisa/Documents/remarkableBackup/xochitl/023c6d49-632f-4e61-8c82-baca3982f4e0/114.rm',\n",
              " '/Users/lisa/Documents/remarkableBackup/xochitl/023c6d49-632f-4e61-8c82-baca3982f4e0/145.rm',\n",
              " '/Users/lisa/Documents/remarkableBackup/xochitl/023c6d49-632f-4e61-8c82-baca3982f4e0/18.rm',\n",
              " '/Users/lisa/Documents/remarkableBackup/xochitl/023c6d49-632f-4e61-8c82-baca3982f4e0/49.rm',\n",
              " '/Users/lisa/Documents/remarkableBackup/xochitl/023c6d49-632f-4e61-8c82-baca3982f4e0/1.rm',\n",
              " '/Users/lisa/Documents/remarkableBackup/xochitl/023c6d49-632f-4e61-8c82-baca3982f4e0/59.rm',\n",
              " '/Users/lisa/Documents/remarkableBackup/xochitl/023c6d49-632f-4e61-8c82-baca3982f4e0/155.rm',\n",
              " '/Users/lisa/Documents/remarkableBackup/xochitl/023c6d49-632f-4e61-8c82-baca3982f4e0/104.rm',\n",
              " '/Users/lisa/Documents/remarkableBackup/xochitl/023c6d49-632f-4e61-8c82-baca3982f4e0/130.rm',\n",
              " '/Users/lisa/Documents/remarkableBackup/xochitl/023c6d49-632f-4e61-8c82-baca3982f4e0/161.rm',\n",
              " '/Users/lisa/Documents/remarkableBackup/xochitl/023c6d49-632f-4e61-8c82-baca3982f4e0/141.rm',\n",
              " '/Users/lisa/Documents/remarkableBackup/xochitl/023c6d49-632f-4e61-8c82-baca3982f4e0/110.rm',\n",
              " '/Users/lisa/Documents/remarkableBackup/xochitl/023c6d49-632f-4e61-8c82-baca3982f4e0/124.rm',\n",
              " '/Users/lisa/Documents/remarkableBackup/xochitl/023c6d49-632f-4e61-8c82-baca3982f4e0/28.rm',\n",
              " '/Users/lisa/Documents/remarkableBackup/xochitl/023c6d49-632f-4e61-8c82-baca3982f4e0/79.rm',\n",
              " '/Users/lisa/Documents/remarkableBackup/xochitl/023c6d49-632f-4e61-8c82-baca3982f4e0/69.rm',\n",
              " '/Users/lisa/Documents/remarkableBackup/xochitl/023c6d49-632f-4e61-8c82-baca3982f4e0/38.rm',\n",
              " '/Users/lisa/Documents/remarkableBackup/xochitl/023c6d49-632f-4e61-8c82-baca3982f4e0/5.rm',\n",
              " '/Users/lisa/Documents/remarkableBackup/xochitl/023c6d49-632f-4e61-8c82-baca3982f4e0/134.rm',\n",
              " '/Users/lisa/Documents/remarkableBackup/xochitl/023c6d49-632f-4e61-8c82-baca3982f4e0/100.rm',\n",
              " '/Users/lisa/Documents/remarkableBackup/xochitl/023c6d49-632f-4e61-8c82-baca3982f4e0/151.rm',\n",
              " '/Users/lisa/Documents/remarkableBackup/xochitl/023c6d49-632f-4e61-8c82-baca3982f4e0/140.rm',\n",
              " '/Users/lisa/Documents/remarkableBackup/xochitl/023c6d49-632f-4e61-8c82-baca3982f4e0/111.rm',\n",
              " '/Users/lisa/Documents/remarkableBackup/xochitl/023c6d49-632f-4e61-8c82-baca3982f4e0/125.rm',\n",
              " '/Users/lisa/Documents/remarkableBackup/xochitl/023c6d49-632f-4e61-8c82-baca3982f4e0/29.rm',\n",
              " '/Users/lisa/Documents/remarkableBackup/xochitl/023c6d49-632f-4e61-8c82-baca3982f4e0/78.rm',\n",
              " '/Users/lisa/Documents/remarkableBackup/xochitl/023c6d49-632f-4e61-8c82-baca3982f4e0/68.rm',\n",
              " '/Users/lisa/Documents/remarkableBackup/xochitl/023c6d49-632f-4e61-8c82-baca3982f4e0/39.rm',\n",
              " '/Users/lisa/Documents/remarkableBackup/xochitl/023c6d49-632f-4e61-8c82-baca3982f4e0/4.rm',\n",
              " '/Users/lisa/Documents/remarkableBackup/xochitl/023c6d49-632f-4e61-8c82-baca3982f4e0/135.rm',\n",
              " '/Users/lisa/Documents/remarkableBackup/xochitl/023c6d49-632f-4e61-8c82-baca3982f4e0/101.rm',\n",
              " '/Users/lisa/Documents/remarkableBackup/xochitl/023c6d49-632f-4e61-8c82-baca3982f4e0/150.rm',\n",
              " '/Users/lisa/Documents/remarkableBackup/xochitl/023c6d49-632f-4e61-8c82-baca3982f4e0/121.rm',\n",
              " '/Users/lisa/Documents/remarkableBackup/xochitl/023c6d49-632f-4e61-8c82-baca3982f4e0/115.rm',\n",
              " '/Users/lisa/Documents/remarkableBackup/xochitl/023c6d49-632f-4e61-8c82-baca3982f4e0/144.rm',\n",
              " '/Users/lisa/Documents/remarkableBackup/xochitl/023c6d49-632f-4e61-8c82-baca3982f4e0/19.rm',\n",
              " '/Users/lisa/Documents/remarkableBackup/xochitl/023c6d49-632f-4e61-8c82-baca3982f4e0/48.rm',\n",
              " '/Users/lisa/Documents/remarkableBackup/xochitl/023c6d49-632f-4e61-8c82-baca3982f4e0/0.rm',\n",
              " '/Users/lisa/Documents/remarkableBackup/xochitl/023c6d49-632f-4e61-8c82-baca3982f4e0/58.rm',\n",
              " '/Users/lisa/Documents/remarkableBackup/xochitl/023c6d49-632f-4e61-8c82-baca3982f4e0/154.rm',\n",
              " '/Users/lisa/Documents/remarkableBackup/xochitl/023c6d49-632f-4e61-8c82-baca3982f4e0/105.rm',\n",
              " '/Users/lisa/Documents/remarkableBackup/xochitl/023c6d49-632f-4e61-8c82-baca3982f4e0/131.rm',\n",
              " '/Users/lisa/Documents/remarkableBackup/xochitl/023c6d49-632f-4e61-8c82-baca3982f4e0/160.rm',\n",
              " '/Users/lisa/Documents/remarkableBackup/xochitl/023c6d49-632f-4e61-8c82-baca3982f4e0/112.rm',\n",
              " '/Users/lisa/Documents/remarkableBackup/xochitl/023c6d49-632f-4e61-8c82-baca3982f4e0/143.rm',\n",
              " '/Users/lisa/Documents/remarkableBackup/xochitl/023c6d49-632f-4e61-8c82-baca3982f4e0/126.rm',\n",
              " '/Users/lisa/Documents/remarkableBackup/xochitl/023c6d49-632f-4e61-8c82-baca3982f4e0/88.rm',\n",
              " '/Users/lisa/Documents/remarkableBackup/xochitl/023c6d49-632f-4e61-8c82-baca3982f4e0/98.rm',\n",
              " '/Users/lisa/Documents/remarkableBackup/xochitl/023c6d49-632f-4e61-8c82-baca3982f4e0/7.rm',\n",
              " '/Users/lisa/Documents/remarkableBackup/xochitl/023c6d49-632f-4e61-8c82-baca3982f4e0/136.rm',\n",
              " '/Users/lisa/Documents/remarkableBackup/xochitl/023c6d49-632f-4e61-8c82-baca3982f4e0/153.rm',\n",
              " '/Users/lisa/Documents/remarkableBackup/xochitl/023c6d49-632f-4e61-8c82-baca3982f4e0/102.rm',\n",
              " '/Users/lisa/Documents/remarkableBackup/xochitl/023c6d49-632f-4e61-8c82-baca3982f4e0/122.rm',\n",
              " '/Users/lisa/Documents/remarkableBackup/xochitl/023c6d49-632f-4e61-8c82-baca3982f4e0/147.rm',\n",
              " '/Users/lisa/Documents/remarkableBackup/xochitl/023c6d49-632f-4e61-8c82-baca3982f4e0/116.rm',\n",
              " '/Users/lisa/Documents/remarkableBackup/xochitl/023c6d49-632f-4e61-8c82-baca3982f4e0/3.rm',\n",
              " '/Users/lisa/Documents/remarkableBackup/xochitl/023c6d49-632f-4e61-8c82-baca3982f4e0/106.rm',\n",
              " '/Users/lisa/Documents/remarkableBackup/xochitl/023c6d49-632f-4e61-8c82-baca3982f4e0/157.rm',\n",
              " '/Users/lisa/Documents/remarkableBackup/xochitl/023c6d49-632f-4e61-8c82-baca3982f4e0/132.rm',\n",
              " '/Users/lisa/Documents/remarkableBackup/xochitl/023c6d49-632f-4e61-8c82-baca3982f4e0/123.rm',\n",
              " '/Users/lisa/Documents/remarkableBackup/xochitl/023c6d49-632f-4e61-8c82-baca3982f4e0/146.rm',\n",
              " '/Users/lisa/Documents/remarkableBackup/xochitl/023c6d49-632f-4e61-8c82-baca3982f4e0/117.rm',\n",
              " '/Users/lisa/Documents/remarkableBackup/xochitl/023c6d49-632f-4e61-8c82-baca3982f4e0/2.rm',\n",
              " '/Users/lisa/Documents/remarkableBackup/xochitl/023c6d49-632f-4e61-8c82-baca3982f4e0/107.rm',\n",
              " '/Users/lisa/Documents/remarkableBackup/xochitl/023c6d49-632f-4e61-8c82-baca3982f4e0/156.rm',\n",
              " '/Users/lisa/Documents/remarkableBackup/xochitl/023c6d49-632f-4e61-8c82-baca3982f4e0/133.rm',\n",
              " '/Users/lisa/Documents/remarkableBackup/xochitl/023c6d49-632f-4e61-8c82-baca3982f4e0/113.rm',\n",
              " '/Users/lisa/Documents/remarkableBackup/xochitl/023c6d49-632f-4e61-8c82-baca3982f4e0/142.rm',\n",
              " '/Users/lisa/Documents/remarkableBackup/xochitl/023c6d49-632f-4e61-8c82-baca3982f4e0/127.rm',\n",
              " '/Users/lisa/Documents/remarkableBackup/xochitl/023c6d49-632f-4e61-8c82-baca3982f4e0/89.rm',\n",
              " '/Users/lisa/Documents/remarkableBackup/xochitl/023c6d49-632f-4e61-8c82-baca3982f4e0/99.rm',\n",
              " '/Users/lisa/Documents/remarkableBackup/xochitl/023c6d49-632f-4e61-8c82-baca3982f4e0/6.rm',\n",
              " '/Users/lisa/Documents/remarkableBackup/xochitl/023c6d49-632f-4e61-8c82-baca3982f4e0/137.rm',\n",
              " '/Users/lisa/Documents/remarkableBackup/xochitl/023c6d49-632f-4e61-8c82-baca3982f4e0/152.rm',\n",
              " '/Users/lisa/Documents/remarkableBackup/xochitl/023c6d49-632f-4e61-8c82-baca3982f4e0/103.rm',\n",
              " '/Users/lisa/Documents/remarkableBackup/xochitl/023c6d49-632f-4e61-8c82-baca3982f4e0/82.rm',\n",
              " '/Users/lisa/Documents/remarkableBackup/xochitl/023c6d49-632f-4e61-8c82-baca3982f4e0/71.rm',\n",
              " '/Users/lisa/Documents/remarkableBackup/xochitl/023c6d49-632f-4e61-8c82-baca3982f4e0/20.rm',\n",
              " '/Users/lisa/Documents/remarkableBackup/xochitl/023c6d49-632f-4e61-8c82-baca3982f4e0/14.rm',\n",
              " '/Users/lisa/Documents/remarkableBackup/xochitl/023c6d49-632f-4e61-8c82-baca3982f4e0/45.rm',\n",
              " '/Users/lisa/Documents/remarkableBackup/xochitl/023c6d49-632f-4e61-8c82-baca3982f4e0/118.rm',\n",
              " '/Users/lisa/Documents/remarkableBackup/xochitl/023c6d49-632f-4e61-8c82-baca3982f4e0/149.rm',\n",
              " '/Users/lisa/Documents/remarkableBackup/xochitl/023c6d49-632f-4e61-8c82-baca3982f4e0/159.rm',\n",
              " '/Users/lisa/Documents/remarkableBackup/xochitl/023c6d49-632f-4e61-8c82-baca3982f4e0/108.rm',\n",
              " '/Users/lisa/Documents/remarkableBackup/xochitl/023c6d49-632f-4e61-8c82-baca3982f4e0/55.rm',\n",
              " '/Users/lisa/Documents/remarkableBackup/xochitl/023c6d49-632f-4e61-8c82-baca3982f4e0/30.rm',\n",
              " '/Users/lisa/Documents/remarkableBackup/xochitl/023c6d49-632f-4e61-8c82-baca3982f4e0/61.rm',\n",
              " '/Users/lisa/Documents/remarkableBackup/xochitl/023c6d49-632f-4e61-8c82-baca3982f4e0/92.rm',\n",
              " '/Users/lisa/Documents/remarkableBackup/xochitl/023c6d49-632f-4e61-8c82-baca3982f4e0/41.rm',\n",
              " '/Users/lisa/Documents/remarkableBackup/xochitl/023c6d49-632f-4e61-8c82-baca3982f4e0/10.rm',\n",
              " '/Users/lisa/Documents/remarkableBackup/xochitl/023c6d49-632f-4e61-8c82-baca3982f4e0/86.rm',\n",
              " '/Users/lisa/Documents/remarkableBackup/xochitl/023c6d49-632f-4e61-8c82-baca3982f4e0/24.rm',\n",
              " '/Users/lisa/Documents/remarkableBackup/xochitl/023c6d49-632f-4e61-8c82-baca3982f4e0/75.rm',\n",
              " '/Users/lisa/Documents/remarkableBackup/xochitl/023c6d49-632f-4e61-8c82-baca3982f4e0/128.rm',\n",
              " '/Users/lisa/Documents/remarkableBackup/xochitl/023c6d49-632f-4e61-8c82-baca3982f4e0/138.rm',\n",
              " '/Users/lisa/Documents/remarkableBackup/xochitl/023c6d49-632f-4e61-8c82-baca3982f4e0/65.rm',\n",
              " '/Users/lisa/Documents/remarkableBackup/xochitl/023c6d49-632f-4e61-8c82-baca3982f4e0/34.rm',\n",
              " '/Users/lisa/Documents/remarkableBackup/xochitl/023c6d49-632f-4e61-8c82-baca3982f4e0/9.rm',\n",
              " '/Users/lisa/Documents/remarkableBackup/xochitl/023c6d49-632f-4e61-8c82-baca3982f4e0/96.rm',\n",
              " '/Users/lisa/Documents/remarkableBackup/xochitl/023c6d49-632f-4e61-8c82-baca3982f4e0/51.rm',\n",
              " '/Users/lisa/Documents/remarkableBackup/xochitl/023c6d49-632f-4e61-8c82-baca3982f4e0/40.rm',\n",
              " '/Users/lisa/Documents/remarkableBackup/xochitl/023c6d49-632f-4e61-8c82-baca3982f4e0/11.rm',\n",
              " '/Users/lisa/Documents/remarkableBackup/xochitl/023c6d49-632f-4e61-8c82-baca3982f4e0/87.rm',\n",
              " '/Users/lisa/Documents/remarkableBackup/xochitl/023c6d49-632f-4e61-8c82-baca3982f4e0/25.rm',\n",
              " '/Users/lisa/Documents/remarkableBackup/xochitl/023c6d49-632f-4e61-8c82-baca3982f4e0/74.rm',\n",
              " '/Users/lisa/Documents/remarkableBackup/xochitl/023c6d49-632f-4e61-8c82-baca3982f4e0/129.rm',\n",
              " '/Users/lisa/Documents/remarkableBackup/xochitl/023c6d49-632f-4e61-8c82-baca3982f4e0/139.rm',\n",
              " '/Users/lisa/Documents/remarkableBackup/xochitl/023c6d49-632f-4e61-8c82-baca3982f4e0/64.rm',\n",
              " '/Users/lisa/Documents/remarkableBackup/xochitl/023c6d49-632f-4e61-8c82-baca3982f4e0/35.rm',\n",
              " '/Users/lisa/Documents/remarkableBackup/xochitl/023c6d49-632f-4e61-8c82-baca3982f4e0/8.rm',\n",
              " '/Users/lisa/Documents/remarkableBackup/xochitl/023c6d49-632f-4e61-8c82-baca3982f4e0/97.rm',\n",
              " '/Users/lisa/Documents/remarkableBackup/xochitl/023c6d49-632f-4e61-8c82-baca3982f4e0/50.rm',\n",
              " '/Users/lisa/Documents/remarkableBackup/xochitl/023c6d49-632f-4e61-8c82-baca3982f4e0/83.rm',\n",
              " '/Users/lisa/Documents/remarkableBackup/xochitl/023c6d49-632f-4e61-8c82-baca3982f4e0/70.rm',\n",
              " '/Users/lisa/Documents/remarkableBackup/xochitl/023c6d49-632f-4e61-8c82-baca3982f4e0/21.rm',\n",
              " '/Users/lisa/Documents/remarkableBackup/xochitl/023c6d49-632f-4e61-8c82-baca3982f4e0/15.rm',\n",
              " '/Users/lisa/Documents/remarkableBackup/xochitl/023c6d49-632f-4e61-8c82-baca3982f4e0/44.rm',\n",
              " '/Users/lisa/Documents/remarkableBackup/xochitl/023c6d49-632f-4e61-8c82-baca3982f4e0/119.rm',\n",
              " '/Users/lisa/Documents/remarkableBackup/xochitl/023c6d49-632f-4e61-8c82-baca3982f4e0/148.rm',\n",
              " '/Users/lisa/Documents/remarkableBackup/xochitl/023c6d49-632f-4e61-8c82-baca3982f4e0/158.rm',\n",
              " '/Users/lisa/Documents/remarkableBackup/xochitl/023c6d49-632f-4e61-8c82-baca3982f4e0/109.rm',\n",
              " '/Users/lisa/Documents/remarkableBackup/xochitl/023c6d49-632f-4e61-8c82-baca3982f4e0/54.rm',\n",
              " '/Users/lisa/Documents/remarkableBackup/xochitl/023c6d49-632f-4e61-8c82-baca3982f4e0/31.rm',\n",
              " '/Users/lisa/Documents/remarkableBackup/xochitl/023c6d49-632f-4e61-8c82-baca3982f4e0/60.rm',\n",
              " '/Users/lisa/Documents/remarkableBackup/xochitl/023c6d49-632f-4e61-8c82-baca3982f4e0/93.rm']"
            ]
          },
          "metadata": {}
        }
      ],
      "execution_count": 79,
      "metadata": {
        "collapsed": false,
        "outputHidden": false,
        "inputHidden": false
      }
    },
    {
      "cell_type": "code",
      "source": [
        "syncFilePath"
      ],
      "outputs": [
        {
          "output_type": "execute_result",
          "execution_count": 80,
          "data": {
            "text/plain": [
              "'/Users/lisa/Documents/Literature/*/The_5 Elements_of_Effective_thinking.pdf'"
            ]
          },
          "metadata": {}
        }
      ],
      "execution_count": 80,
      "metadata": {
        "collapsed": false,
        "outputHidden": false,
        "inputHidden": false
      }
    },
    {
      "cell_type": "code",
      "source": [
        "local_annotExist = True if glob.glob(syncFilePath[:-4] + \"_annot.pdf\") != [] else False\n",
        "local_annotExist\n",
        "remoteChanged = True"
      ],
      "outputs": [],
      "execution_count": 81,
      "metadata": {
        "collapsed": false,
        "outputHidden": false,
        "inputHidden": false
      }
    },
    {
      "cell_type": "code",
      "source": [
        "if local_annotExist:\n",
        "    local_annotPath = glob.glob(syncFilePath[:-4]+\"_annot.pdf\")[0]\n",
        "    local_annot_mod_time = os.path.getmtime(annotPath)\n",
        "    remote_annot_mod_time = int(meta['lastModified'])\n",
        "    # has this version changed since we last exported it?\n",
        "    remoteChanged = remote_annot_mod_time > local_annot_mod_time\n",
        "remoteChanged"
      ],
      "outputs": [
        {
          "output_type": "execute_result",
          "execution_count": 82,
          "data": {
            "text/plain": [
              "True"
            ]
          },
          "metadata": {}
        }
      ],
      "execution_count": 82,
      "metadata": {
        "collapsed": false,
        "outputHidden": false,
        "inputHidden": false
      }
    },
    {
      "cell_type": "code",
      "source": [
        "print(meta[\"visibleName\"]+\" is being exported.\")"
      ],
      "outputs": [
        {
          "output_type": "stream",
          "name": "stdout",
          "text": [
            "The_5 Elements_of_Effective_thinking.pdf is being exported.\n"
          ]
        }
      ],
      "execution_count": 83,
      "metadata": {
        "collapsed": false,
        "outputHidden": false,
        "inputHidden": false
      }
    },
    {
      "cell_type": "code",
      "source": [
        "origPDF = glob.glob(syncFilePath)[0]\n",
        "subFolder = os.path.basename(os.path.dirname(origPDF))\n",
        "# get info on origin pdf\n",
        "input1 = PdfFileReader(open(origPDF, 'rb'))\n",
        "pdfsize = input1.getPage(0).mediaBox\n",
        "pdfx = int(pdfsize[2])\n",
        "pdfy = int(pdfsize[3])"
      ],
      "outputs": [
        {
          "output_type": "stream",
          "name": "stderr",
          "text": [
            "PdfReadWarning: Xref table not zero-indexed. ID numbers for objects will be corrected. [pdf.py:1736]\n"
          ]
        }
      ],
      "execution_count": 22,
      "metadata": {
        "collapsed": false,
        "outputHidden": false,
        "inputHidden": false
      }
    },
    {
      "cell_type": "code",
      "source": [
        "list(range(1,20))"
      ],
      "outputs": [
        {
          "output_type": "execute_result",
          "execution_count": 23,
          "data": {
            "text/plain": [
              "[1, 2, 3, 4, 5, 6, 7, 8, 9, 10, 11, 12, 13, 14, 15, 16, 17, 18, 19]"
            ]
          },
          "metadata": {}
        }
      ],
      "execution_count": 23,
      "metadata": {
        "collapsed": false,
        "outputHidden": false,
        "inputHidden": false
      }
    },
    {
      "cell_type": "code",
      "source": [
        "npages = len(glob.glob(refNrPath+\"/*.rm\"))\n",
        "npages"
      ],
      "outputs": [
        {
          "output_type": "execute_result",
          "execution_count": 25,
          "data": {
            "text/plain": [
              "0"
            ]
          },
          "metadata": {}
        }
      ],
      "execution_count": 25,
      "metadata": {
        "collapsed": false,
        "outputHidden": false,
        "inputHidden": false
      }
    },
    {
      "cell_type": "code",
      "source": [
        "\n",
        "pdflist = []\n",
        "for pg in range(0,npages):\n",
        "    print(pg)\n",
        "    rmpath = refNrPath+\"/\"+str(pg)+\".rm\"\n",
        "    try:\n",
        "        os.mkdir('tempDir')\n",
        "    except:\n",
        "        pass\n",
        "    rm2svg(rmpath, \"tempDir/temprm\"+str(pg)+\".svg\", coloured_annotations=False)\n",
        "    convertSvg2PdfCmd=\"\".join([\"rsvg-convert -f pdf -o \", \"tempDir/temppdf\"+str(pg),\".pdf \", \"tempDir/temprm\"+str(pg)+\".svg\"])\n",
        "    os.system(convertSvg2PdfCmd)\n",
        "    pdflist.append(\"tempDir/temppdf\"+str(pg)+\".pdf\")\n",
        "#pdflist = glob.glob(\"tempDir/*.pdf\")\n",
        "merged_rm = \"tempDir/merged_rm.pdf\"\n",
        "os.system(\"convert \"+ (\" \").join(pdflist)+\" \"+merged_rm)\n"
      ],
      "outputs": [],
      "execution_count": null,
      "metadata": {
        "collapsed": false,
        "outputHidden": false,
        "inputHidden": false
      }
    },
    {
      "cell_type": "code",
      "source": [
        "origPDF"
      ],
      "outputs": [],
      "execution_count": null,
      "metadata": {
        "collapsed": false,
        "outputHidden": false,
        "inputHidden": false
      }
    },
    {
      "cell_type": "code",
      "source": [
        "stampCmd = \"\".join([\"pdftk \", origPDF, \" multistamp \", merged_rm, \" output \", origPDF[:-4], \"_annot.pdf\"])\n",
        "stampCmd = \"\".join([\"pdftk \", origPDF, \" multistamp \", merged_rm, \" output annot.pdf\"])\n",
        "stampCmd"
      ],
      "outputs": [],
      "execution_count": null,
      "metadata": {
        "collapsed": false,
        "outputHidden": false,
        "inputHidden": false
      }
    },
    {
      "cell_type": "code",
      "source": [
        "os.system(stampCmd)"
      ],
      "outputs": [],
      "execution_count": null,
      "metadata": {
        "collapsed": false,
        "outputHidden": false,
        "inputHidden": false
      }
    },
    {
      "cell_type": "code",
      "source": [
        "\nsyncFilePath= syncDirectory+\"/*/\"+meta[\"visibleName\"]+\".pdf\" if meta[\"visibleName\"][-4:]!=\".pdf\" else syncDirectory+\"/*/\"+meta[\"visibleName\"]"
      ],
      "outputs": [],
      "execution_count": null,
      "metadata": {
        "collapsed": false,
        "outputHidden": false,
        "inputHidden": false
      }
    },
    {
      "cell_type": "markdown",
      "source": [
        "# Notes"
      ],
      "metadata": {}
    },
    {
      "cell_type": "code",
      "source": [
        "fname= meta[\"visibleName\"]"
      ],
      "outputs": [],
      "execution_count": 29,
      "metadata": {
        "collapsed": false,
        "outputHidden": false,
        "inputHidden": false
      }
    },
    {
      "cell_type": "code",
      "source": [
        "syncFilePath= syncDirectory+\"/Notes/\"+fname+\".pdf\"\n",
        "syncFilePath"
      ],
      "outputs": [
        {
          "output_type": "execute_result",
          "execution_count": 30,
          "data": {
            "text/plain": [
              "'/Users/lisa/Documents/Literature/Notes/sameold.pdf'"
            ]
          },
          "metadata": {}
        }
      ],
      "execution_count": 30,
      "metadata": {
        "collapsed": false,
        "outputHidden": false,
        "inputHidden": false
      }
    },
    {
      "cell_type": "code",
      "source": [
        "inSyncFolder= True if glob.glob(syncFilePath)!=[] else False\n",
        "inSyncFolder"
      ],
      "outputs": [
        {
          "output_type": "execute_result",
          "execution_count": 31,
          "data": {
            "text/plain": [
              "True"
            ]
          },
          "metadata": {}
        }
      ],
      "execution_count": 31,
      "metadata": {
        "collapsed": false,
        "outputHidden": false,
        "inputHidden": false
      }
    },
    {
      "cell_type": "code",
      "source": [
        "int(meta['lastModified'])/1000"
      ],
      "outputs": [
        {
          "output_type": "execute_result",
          "execution_count": 59,
          "data": {
            "text/plain": [
              "1544301581.14"
            ]
          },
          "metadata": {}
        }
      ],
      "execution_count": 59,
      "metadata": {
        "collapsed": false,
        "outputHidden": false,
        "inputHidden": false
      }
    },
    {
      "cell_type": "code",
      "source": [
        "remoteChanged = True\n",
        "if inSyncFolder:\n",
        "    local_annot_mod_time = os.path.getmtime(syncFilePath)\n",
        "    remote_annot_mod_time = int(meta['lastModified'][:-2])\n",
        "    # has this version changed since we last exported it?\n",
        "    remoteChanged = remote_annot_mod_time > local_annot_mod_time\n",
        "remoteChanged"
      ],
      "outputs": [
        {
          "output_type": "execute_result",
          "execution_count": 51,
          "data": {
            "text/plain": [
              "True"
            ]
          },
          "metadata": {}
        }
      ],
      "execution_count": 51,
      "metadata": {
        "collapsed": false,
        "outputHidden": false,
        "inputHidden": false
      }
    },
    {
      "cell_type": "code",
      "source": [
        "import time\n",
        "print(local_annot_mod_time)\n",
        "time.gmtime(local_annot_mod_time)"
      ],
      "outputs": [
        {
          "output_type": "stream",
          "name": "stdout",
          "text": [
            "1549285530.947655\n"
          ]
        },
        {
          "output_type": "execute_result",
          "execution_count": 52,
          "data": {
            "text/plain": [
              "time.struct_time(tm_year=2019, tm_mon=2, tm_mday=4, tm_hour=13, tm_min=5, tm_sec=30, tm_wday=0, tm_yday=35, tm_isdst=0)"
            ]
          },
          "metadata": {}
        }
      ],
      "execution_count": 52,
      "metadata": {
        "collapsed": false,
        "outputHidden": false,
        "inputHidden": false
      }
    },
    {
      "cell_type": "code",
      "source": [
        "print(remote_annot_mod_time)\n",
        "time.gmtime(remote_annot_mod_time)"
      ],
      "outputs": [
        {
          "output_type": "stream",
          "name": "stdout",
          "text": [
            "15443015811\n"
          ]
        },
        {
          "output_type": "execute_result",
          "execution_count": 53,
          "data": {
            "text/plain": [
              "time.struct_time(tm_year=2459, tm_mon=5, tm_mday=15, tm_hour=14, tm_min=36, tm_sec=51, tm_wday=3, tm_yday=135, tm_isdst=0)"
            ]
          },
          "metadata": {}
        }
      ],
      "execution_count": 53,
      "metadata": {
        "collapsed": false,
        "outputHidden": false,
        "inputHidden": false
      }
    },
    {
      "cell_type": "code",
      "source": [
        "print(\"exporting Notebook \" + fname)"
      ],
      "outputs": [],
      "execution_count": null,
      "metadata": {
        "collapsed": false,
        "outputHidden": false,
        "inputHidden": false
      }
    },
    {
      "cell_type": "code",
      "source": [
        "try:\n",
        "    os.mkdir('tempDir')\n",
        "except:\n",
        "    pass"
      ],
      "outputs": [],
      "execution_count": null,
      "metadata": {
        "collapsed": false,
        "outputHidden": false,
        "inputHidden": false
      }
    },
    {
      "cell_type": "code",
      "source": [
        "with open(refNrPath+\".pagedata\") as file:\n",
        "    backgrounds = [line.strip() for line in file]"
      ],
      "outputs": [],
      "execution_count": 67,
      "metadata": {
        "collapsed": false,
        "outputHidden": false,
        "inputHidden": false
      }
    },
    {
      "cell_type": "code",
      "source": [
        "bg = backgrounds[0]"
      ],
      "outputs": [],
      "execution_count": 70,
      "metadata": {
        "collapsed": false,
        "outputHidden": false,
        "inputHidden": false
      }
    },
    {
      "cell_type": "code",
      "source": [
        "str(\"asd/\") + bg + \".svg\""
      ],
      "outputs": [
        {
          "output_type": "execute_result",
          "execution_count": 72,
          "data": {
            "text/plain": [
              "'asd/P Dots large.svg'"
            ]
          },
          "metadata": {}
        }
      ],
      "execution_count": 72,
      "metadata": {
        "collapsed": false,
        "outputHidden": false,
        "inputHidden": false
      }
    },
    {
      "cell_type": "code",
      "source": [
        "bgPath = \"/Users/lisa/Documents/remarkableBackup/templates/\"\n",
        "bg_pg = 0\n",
        "bglist = []\n",
        "for bg in backgrounds:\n",
        "    convertSvg2PdfCmd=\"\".join([\"rsvg-convert -f pdf -o \", \"tempDir/bg_\"+str(bg_pg)+\".pdf \", str(bgPath)+bg.replace(\" \", \"\\ \")+\".svg\"])\n",
        "    os.system(convertSvg2PdfCmd)\n",
        "    bglist.append(\"tempDir/bg_\"+str(bg_pg)+\".pdf \")\n",
        "    bg_pg += 1\n",
        "    \n",
        "merged_bg = \"tempDir/merged_bg.pdf\"\n",
        "os.system(\"convert \"+ (\" \").join(bglist)+\" \"+merged_bg)"
      ],
      "outputs": [],
      "execution_count": null,
      "metadata": {
        "collapsed": false,
        "outputHidden": false,
        "inputHidden": false
      }
    },
    {
      "cell_type": "code",
      "source": [
        "input1 = PdfFileReader(open(merged_bg, 'rb'))\n",
        "pdfsize = input1.getPage(0).mediaBox\n",
        "pdfx = int(pdfsize[2])\n",
        "pdfy = int(pdfsize[3])"
      ],
      "outputs": [],
      "execution_count": null,
      "metadata": {
        "collapsed": false,
        "outputHidden": false,
        "inputHidden": false
      }
    },
    {
      "cell_type": "code",
      "source": [
        "npages = len(glob.glob(refNrPath+\"/*.rm\"))\n",
        "pdflist = []\n",
        "for pg in range(0,npages):\n",
        "    print(pg)\n",
        "    rmpath = refNrPath+\"/\"+str(pg)+\".rm\"\n",
        "    rm2svg(rmpath, \"tempDir/temprm\"+str(pg)+\".svg\", coloured_annotations=False)\n",
        "    convertSvg2PdfCmd=\"\".join([\"rsvg-convert -f pdf -o \", \"tempDir/temppdf\"+str(pg),\".pdf \", \"tempDir/temprm\"+str(pg)+\".svg\"])\n",
        "    os.system(convertSvg2PdfCmd)\n",
        "    pdflist.append(\"tempDir/temppdf\"+str(pg)+\".pdf\")\n",
        "#pdflist = glob.glob(\"tempDir/*.pdf\")\n",
        "merged_rm = \"tempDir/merged_rm.pdf\"\n",
        "os.system(\"convert \"+ (\" \").join(pdflist)+\" \"+merged_rm)"
      ],
      "outputs": [],
      "execution_count": null,
      "metadata": {
        "collapsed": false,
        "outputHidden": false,
        "inputHidden": false
      }
    },
    {
      "cell_type": "code",
      "source": [
        "stampCmd = \"\".join([\"pdftk \", merged_bg, \" multistamp \", merged_rm, \" output annot.pdf\"])\n",
        "stampCmd"
      ],
      "outputs": [],
      "execution_count": null,
      "metadata": {
        "collapsed": false,
        "outputHidden": false,
        "inputHidden": false
      }
    },
    {
      "cell_type": "code",
      "source": [
        "os.system(stampCmd)"
      ],
      "outputs": [],
      "execution_count": null,
      "metadata": {
        "collapsed": false,
        "outputHidden": false,
        "inputHidden": false
      }
    },
    {
      "cell_type": "code",
      "source": [
        "fname = \"aaa aa\""
      ],
      "outputs": [],
      "execution_count": 40,
      "metadata": {
        "collapsed": false,
        "outputHidden": false,
        "inputHidden": false
      }
    },
    {
      "cell_type": "code",
      "source": [
        "fname.replace(\" \", \"_\")"
      ],
      "outputs": [
        {
          "output_type": "execute_result",
          "execution_count": 42,
          "data": {
            "text/plain": [
              "'aaa_aa'"
            ]
          },
          "metadata": {}
        }
      ],
      "execution_count": 42,
      "metadata": {
        "collapsed": false,
        "outputHidden": false,
        "inputHidden": false
      }
    },
    {
      "cell_type": "code",
      "source": [],
      "outputs": [],
      "execution_count": null,
      "metadata": {
        "collapsed": false,
        "outputHidden": false,
        "inputHidden": false
      }
    }
  ],
  "metadata": {
    "kernel_info": {
      "name": "python3"
    },
    "language_info": {
      "name": "python",
      "version": "3.6.3",
      "mimetype": "text/x-python",
      "codemirror_mode": {
        "name": "ipython",
        "version": 3
      },
      "pygments_lexer": "ipython3",
      "nbconvert_exporter": "python",
      "file_extension": ".py"
    },
    "kernelspec": {
      "name": "python3",
      "language": "python",
      "display_name": "Python 3"
    },
    "nteract": {
      "version": "0.12.3"
    }
  },
  "nbformat": 4,
  "nbformat_minor": 4
}